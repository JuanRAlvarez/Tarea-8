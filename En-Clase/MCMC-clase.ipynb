{
 "metadata": {
  "name": "",
  "signature": "sha256:8152e85c42ef4cf55c1dc41aab429c2d056970423f7ae1feb9dc91c8a35c6ae2"
 },
 "nbformat": 3,
 "nbformat_minor": 0,
 "worksheets": [
  {
   "cells": [
    {
     "cell_type": "code",
     "collapsed": false,
     "input": [
      "%pylab inline"
     ],
     "language": "python",
     "metadata": {},
     "outputs": [
      {
       "output_type": "stream",
       "stream": "stdout",
       "text": [
        "Populating the interactive namespace from numpy and matplotlib\n"
       ]
      }
     ],
     "prompt_number": 2
    },
    {
     "cell_type": "code",
     "collapsed": false,
     "input": [
      "n_points = 200000\n",
      "x = linspace(0,60,1000)\n",
      "\n",
      "def nasty_function(x):\n",
      "    x_0 = 30\n",
      "    a = 100\n",
      "    return 1/(10*sqrt(pi))*exp(-(x-x_0)**2 / a)\n",
      "\n",
      "f = nasty_function(x)\n",
      "\n",
      "plot(x,f)"
     ],
     "language": "python",
     "metadata": {},
     "outputs": [
      {
       "metadata": {},
       "output_type": "pyout",
       "prompt_number": 47,
       "text": [
        "[<matplotlib.lines.Line2D at 0x1068e1850>]"
       ]
      },
      {
       "metadata": {},
       "output_type": "display_data",
       "png": "[encoded data removed]",
       "text": [
        "<matplotlib.figure.Figure at 0x105ebcd10>"
       ]
      }
     ],
     "prompt_number": 47
    },
    {
     "cell_type": "code",
     "collapsed": false,
     "input": [
      "x_walk = empty((0))\n",
      "x_0 = 10*(random.random()-1)\n",
      "\n",
      "x_walk = append(x_walk,x_0)\n",
      "print x_walk"
     ],
     "language": "python",
     "metadata": {},
     "outputs": [
      {
       "output_type": "stream",
       "stream": "stdout",
       "text": [
        "[-9.85052686]\n"
       ]
      }
     ],
     "prompt_number": 48
    },
    {
     "cell_type": "code",
     "collapsed": false,
     "input": [
      "for i in range(n_points):\n",
      "    x_prime = np.random.normal(x_walk[i], 2.0) #0.1 is the sigma in the normal distribution\n",
      "    alpha = nasty_function(x_prime)/nasty_function(x_walk[i])\n",
      "    if(alpha>=1.0):\n",
      "        x_walk  = append(x_walk,x_prime)\n",
      "    else:\n",
      "        beta = random.random()\n",
      "        if(beta<=alpha):\n",
      "            x_walk = append(x_walk,x_prime)\n",
      "        else:\n",
      "            x_walk = append(x_walk,x_walk[i])\n",
      "\n",
      "            \n",
      "f = nasty_function(x)\n",
      "norm = sum(f*(x[1]-x[0]))\n",
      "plot(x,f/norm, linewidth=1, color='r')\n",
      "count, bins, ignored = plt.hist(x_walk, 1000, normed=True)\n",
      "\n",
      "#fig = figure(1, figsize=(9.5,6.5))\n",
      "plt.xlabel('x')\n",
      "plt.ylabel('p(x)')\n",
      "ax = axes()\n",
      "ax.set_xlim([0,100])\n",
      "ax.set_ylim([0.0,0.1])"
     ],
     "language": "python",
     "metadata": {},
     "outputs": [
      {
       "metadata": {},
       "output_type": "pyout",
       "prompt_number": 49,
       "text": [
        "(0.0, 0.1)"
       ]
      },
      {
       "metadata": {},
       "output_type": "display_data",
       "png": "[encoded data removed]",
       "text": [
        "<matplotlib.figure.Figure at 0x106967610>"
       ]
      }
     ],
     "prompt_number": 49
    },
    {
     "cell_type": "code",
     "collapsed": false,
     "input": [],
     "language": "python",
     "metadata": {},
     "outputs": []
    }
   ],
   "metadata": {}
  }
 ]
}