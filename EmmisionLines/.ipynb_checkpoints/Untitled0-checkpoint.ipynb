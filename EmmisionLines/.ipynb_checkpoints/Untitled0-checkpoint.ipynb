{
 "metadata": {
  "name": "",
  "signature": "sha256:87bf726baf7b5150146ed916be32deecb093e6a763093b28bcc77764c733c259"
 },
 "nbformat": 3,
 "nbformat_minor": 0,
 "worksheets": []
}